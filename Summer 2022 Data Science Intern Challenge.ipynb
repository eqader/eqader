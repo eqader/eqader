{
 "cells": [
  {
   "cell_type": "markdown",
   "id": "06aef29b",
   "metadata": {},
   "source": [
    "This notebook is Eissa Qader's entry for Shopify's Summer 2022 Data Science Intern challenge. All answers and work will be shown here along with some analysis."
   ]
  },
  {
   "cell_type": "markdown",
   "id": "61fd611e",
   "metadata": {},
   "source": [
    "### Question 1"
   ]
  },
  {
   "cell_type": "markdown",
   "id": "5f6f622b",
   "metadata": {},
   "source": [
    "On Shopify, we have exactly 100 sneaker shops, and each of these shops sells only one model of shoe. We want to do some analysis of the average order value (AOV). When we look at orders data over a 30 day window, we naively calculate an AOV of 3145.13 dollars. Given that we know these shops are selling sneakers, a relatively affordable item, something seems wrong with our analysis. \n",
    "\n",
    "A) Think about what could be going wrong with our calculation. Think about a better way to evaluate this data. \n",
    "- Right away, I see a large std compared to the mean, which indicates that a few whaling rows are skewing the average order value. To address this, removing the outliers could be used to give a more realistic view of the data for an average user ordering. Removing outliers won't be a large issue because 98.6 per cent of the data will remain, which gives a strong sample size of the 5,000 entries. 98.6 per cent of the data is below 1,000 dollars in value that means 1.4 per cent of the data is the problem here. From searching through the data, it seems that there are buyers requesting over 2000 pairs of 352 dollar shoes, and buyers purchasing 25000 dollar shoes. This is not indicative of an average order statistically, as well as from personal experience of shopping habits. Evidence is below.\n",
    "\n",
    "B) What metric would you report for this dataset?\n",
    "- A non-parametric method such as median. A median should be used because it is less influenced by outliers, which is the biggest issue with this dataset.\n",
    "\n",
    "C) What is its value?\n",
    "- $284.00, evidence is below\n"
   ]
  },
  {
   "cell_type": "code",
   "execution_count": 1,
   "id": "e0e7f35d",
   "metadata": {},
   "outputs": [
    {
     "data": {
      "text/plain": [
       "<bound method NDFrame.head of       order_id  shop_id  user_id  order_amount  total_items payment_method  \\\n",
       "0            1       53      746           224            2           cash   \n",
       "1            2       92      925            90            1           cash   \n",
       "2            3       44      861           144            1           cash   \n",
       "3            4       18      935           156            1    credit_card   \n",
       "4            5       18      883           156            1    credit_card   \n",
       "...        ...      ...      ...           ...          ...            ...   \n",
       "4995      4996       73      993           330            2          debit   \n",
       "4996      4997       48      789           234            2           cash   \n",
       "4997      4998       56      867           351            3           cash   \n",
       "4998      4999       60      825           354            2    credit_card   \n",
       "4999      5000       44      734           288            2          debit   \n",
       "\n",
       "           created_at  \n",
       "0     3/13/2017 12:36  \n",
       "1      3/3/2017 17:38  \n",
       "2      3/14/2017 4:23  \n",
       "3     3/26/2017 12:43  \n",
       "4       3/1/2017 4:35  \n",
       "...               ...  \n",
       "4995  3/30/2017 13:47  \n",
       "4996  3/16/2017 20:36  \n",
       "4997   3/19/2017 5:42  \n",
       "4998  3/16/2017 14:51  \n",
       "4999  3/18/2017 15:48  \n",
       "\n",
       "[5000 rows x 7 columns]>"
      ]
     },
     "metadata": {},
     "output_type": "display_data"
    }
   ],
   "source": [
    "#Import necessary module\n",
    "import pandas as pd\n",
    "\n",
    "#Read in the data and explore\n",
    "df = pd.read_csv('Shopify_Data.csv')\n",
    "display(df.head)"
   ]
  },
  {
   "cell_type": "code",
   "execution_count": 2,
   "id": "922ae2c1",
   "metadata": {},
   "outputs": [
    {
     "name": "stdout",
     "output_type": "stream",
     "text": [
      "          order_id      shop_id      user_id   order_amount  total_items\n",
      "count  5000.000000  5000.000000  5000.000000    5000.000000   5000.00000\n",
      "mean   2500.500000    50.078800   849.092400    3145.128000      8.78720\n",
      "std    1443.520003    29.006118    87.798982   41282.539349    116.32032\n",
      "min       1.000000     1.000000   607.000000      90.000000      1.00000\n",
      "25%    1250.750000    24.000000   775.000000     163.000000      1.00000\n",
      "50%    2500.500000    50.000000   849.000000     284.000000      2.00000\n",
      "75%    3750.250000    75.000000   925.000000     390.000000      3.00000\n",
      "max    5000.000000   100.000000   999.000000  704000.000000   2000.00000\n",
      "\n",
      "\n",
      "The median amount for the orders is 284.0\n"
     ]
    }
   ],
   "source": [
    "print(df.describe())\n",
    "\"\"\"\n",
    "Right away, I see a large std from mean which indicates that a few whaling rows are skewing the average order value.\n",
    "To address this\n",
    "\"\"\"\n",
    "\n",
    "print(f'\\n\\nThe median amount for the orders is {df.order_amount.median()}')"
   ]
  },
  {
   "cell_type": "code",
   "execution_count": 3,
   "id": "091c0104",
   "metadata": {},
   "outputs": [
    {
     "name": "stdout",
     "output_type": "stream",
     "text": [
      "order_id          71\n",
      "shop_id           71\n",
      "user_id           71\n",
      "order_amount      71\n",
      "total_items       71\n",
      "payment_method    71\n",
      "created_at        71\n",
      "dtype: int64\n",
      "order_id          63\n",
      "shop_id           63\n",
      "user_id           63\n",
      "order_amount      63\n",
      "total_items       63\n",
      "payment_method    63\n",
      "created_at        63\n",
      "dtype: int64\n",
      "order_id          4937\n",
      "shop_id           4937\n",
      "user_id           4937\n",
      "order_amount      4937\n",
      "total_items       4937\n",
      "payment_method    4937\n",
      "created_at        4937\n",
      "dtype: int64\n",
      "order_id          2511\n",
      "shop_id           2511\n",
      "user_id           2511\n",
      "order_amount      2511\n",
      "total_items       2511\n",
      "payment_method    2511\n",
      "created_at        2511\n",
      "dtype: int64\n"
     ]
    },
    {
     "data": {
      "text/plain": [
       "' \\nProof that 63/5000 of the data points are skewing the mean\\nas 4937/5000 of the data points lie below the mean\\n'"
      ]
     },
     "execution_count": 3,
     "metadata": {},
     "output_type": "execute_result"
    }
   ],
   "source": [
    "print(df[df['order_amount'] > 1000].count()) # Personal experience on too much money for shoes\n",
    "print(df[df['order_amount'] > 3145].count()) # Testing mean\n",
    "print(df[df['order_amount'] < 3145].count()) # Testing mean\n",
    "print(df[df['order_amount'] <= 284].count()) # Testing median\n",
    "\n",
    "''' \n",
    "Proof that 63/5000 of the data points are skewing the mean\n",
    "as 4937/5000 of the data points lie below the mean\n",
    "'''"
   ]
  },
  {
   "cell_type": "markdown",
   "id": "ddaedf79",
   "metadata": {},
   "source": [
    "### Question 2"
   ]
  },
  {
   "cell_type": "markdown",
   "id": "592f9a6b",
   "metadata": {},
   "source": [
    "For this question you’ll need to use SQL. Follow this link to access the data set required for the challenge. Please use queries to answer the following questions. Paste your queries along with your final numerical answers below.\n",
    "\n",
    "A)How many orders were shipped by Speedy Express in total?\n",
    "SQL Query:\n",
    "\n",
    "SELECT COUNT(ShipperName) as NumberOfSpeedyExpressOrders\n",
    "FROM Shippers AS s\n",
    "JOIN Orders AS o\n",
    "ON s.ShipperID = o.ShipperID\n",
    "WHERE ShipperName = 'Speedy Express'\n",
    "\n",
    "Answer: 54\n",
    "\n",
    "B)What is the last name of the employee with the most orders?\n",
    "SQL Query:\n",
    "\n",
    "SELECT LastName, COUNT(OrderID) as AmtOfOrders\n",
    "FROM Employees AS e\n",
    "JOIN Orders AS o\n",
    "ON e.EmployeeID = o.EmployeeID\n",
    "GROUP BY e.EmployeeID\n",
    "ORDER BY AmtOfOrders DESC\n",
    "LIMIT 1\n",
    "\n",
    "Answer: Peacock (40 orders)\n",
    "\n",
    "C)What product was ordered the most by customers in Germany?\n",
    "SQL Query:\n",
    "\n",
    "SELECT ProductName, Sum(Quantity) AS Total\n",
    "FROM OrderDetails AS od\n",
    "JOIN Orders as o\n",
    "ON od.OrderID = o.OrderID\n",
    "JOIN Products AS p\n",
    "AS od.ProductID = p.ProductID\n",
    "JOIN Customers AS c\n",
    "ON o.CustomerID = c.customerID\n",
    "WHERE c.Country = 'Germany'\n",
    "GROUP BY ProductName\n",
    "ORDER BY Total DESC\n",
    "LIMIT 1\n",
    "\n",
    "Answer: Boston Crab Meat (160 quantity)"
   ]
  }
 ],
 "metadata": {
  "kernelspec": {
   "display_name": "Python 3",
   "language": "python",
   "name": "python3"
  },
  "language_info": {
   "codemirror_mode": {
    "name": "ipython",
    "version": 3
   },
   "file_extension": ".py",
   "mimetype": "text/x-python",
   "name": "python",
   "nbconvert_exporter": "python",
   "pygments_lexer": "ipython3",
   "version": "3.8.8"
  }
 },
 "nbformat": 4,
 "nbformat_minor": 5
}

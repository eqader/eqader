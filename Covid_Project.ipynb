{
 "cells": [
  {
   "cell_type": "code",
   "execution_count": 1,
   "metadata": {},
   "outputs": [],
   "source": [
    "import pandas as pd\n",
    "import matplotlib.pyplot as plt\n",
    "import seaborn as sns\n",
    "plt.style.use(\"ggplot\")\n",
    "%matplotlib inline\n",
    "\n",
    "#Read Data\n",
    "df_cases = pd.read_csv(\"https://github.com/CSSEGISandData/COVID-19/raw/master/csse_covid_19_data/csse_covid_19_time_series/time_series_covid19_confirmed_US.csv\")\n",
    "df_deaths = pd.read_csv(\"https://github.com/CSSEGISandData/COVID-19/raw/master/csse_covid_19_data/csse_covid_19_time_series/time_series_covid19_deaths_US.csv\")\n",
    "\n",
    "#Drop unecessary columns\n",
    "df_cases.drop([\"UID\", \"iso2\", \"iso3\", \"code3\", \"FIPS\", \"Country_Region\", \"Lat\", \"Long_\"].copy(),axis=1, inplace=True)\n",
    "df_deaths.drop([\"UID\", \"iso2\", \"iso3\", \"code3\", \"FIPS\", \"Country_Region\", \"Lat\", \"Long_\"].copy(),axis=1, inplace=True)\n",
    "\n",
    "#Rename columns to be more user friendly\n",
    "df_cases.rename(columns={\"Admin2\": \"county\", \"Province_State\": \"state\", \"Combined_Key\": \"county_state\"}, inplace=True)\n",
    "df_deaths.rename(columns={\"Admin2\": \"county\", \"Province_State\": \"state\", \"Combined_Key\": \"county_state\"}, inplace=True)\n",
    "\n",
    "#Melt dataframes to turn them from wide to narrow\n",
    "df_cases_melted = pd.melt(df_cases, id_vars=[\"county\",\"state\",\"county_state\"],\n",
    "                         var_name=\"dates\",\n",
    "                         value_name=\"cases\")\n",
    "df_deaths_melted = pd.melt(df_deaths, id_vars=[\"county\",\"state\",\"county_state\",\"Population\"],\n",
    "                         var_name=\"dates\",\n",
    "                         value_name=\"deaths\")\n",
    "\n",
    "#Merge the two melted dataframes\n",
    "df_merged = pd.merge(df_cases_melted, df_deaths_melted,\n",
    "                    how=\"left\", on=[\"county\",\"state\",\"county_state\",\"dates\"])\n",
    "\n",
    "#Change date to_datetime type\n",
    "df_merged[\"dates\"] = pd.to_datetime(df_merged['dates'])\n",
    "\n",
    "#Create length of pandemix\n",
    "df_merged[\"us_outbreak\"] = df_merged[\"dates\"] - df_merged[\"dates\"].min()\n",
    "\n",
    "#Groupby both cases and deaths\n",
    "df_c = df_merged.groupby([\"state\", \"dates\"], as_index=False)[\"cases\"].sum()\n",
    "df_d = df_merged.groupby([\"state\", \"dates\"], as_index=False)[\"deaths\"].sum()\n",
    "\n",
    "\n",
    "#Increase or Decrease function\n",
    "def inc_dec(pre, cur):\n",
    "    if pre > cur:\n",
    "        return \"decreased\"\n",
    "    else: return \"increased\"\n",
    "\n",
    "#Output function to clean up body\n",
    "def graph_output(w,x,y,z):\n",
    "    print(f'The 15-day average of new reported {w} is {x}, ranging between {y} and {z}.')\n",
    "\n",
    "\n",
    "def covid():\n",
    "    #Ask for name\n",
    "    name = input(\"Hello. Please enter your name: \")\n",
    "    \n",
    "    #Length of outbreak in USA\n",
    "    print(f'\\nIt has been {df_merged[\"us_outbreak\"].max().days} days since the US outbreak of COVID-19. For which state would you like to view COVID-19 information?')\n",
    "    \n",
    "    #Ask for state\n",
    "    states = []\n",
    "    for x in df_merged.state:\n",
    "        states.append(x)\n",
    "    \n",
    "    while True:\n",
    "        choice = input(\"\\tEnter State: \")\n",
    "        if choice in states:\n",
    "            state = choice\n",
    "            break\n",
    "        else:\n",
    "            print(\"Error state not found. Please Choose a valid state.\")\n",
    "        \n",
    "    \n",
    "    #Subset dataframe to use input for state\n",
    "    df_state_c = df_c[df_c[\"state\"] == state].copy()\n",
    "    df_state_c[\"new_cases\"] = df_state_c[\"cases\"].diff()\n",
    "    \n",
    "    df_state_d = df_d[df_d[\"state\"] == state].copy()\n",
    "    df_state_d[\"new_deaths\"] = df_state_d[\"deaths\"].diff()\n",
    "    \n",
    "    print(f'Okay, {name}. Here\\'s the information for {state}:\\n')\n",
    "          \n",
    "    #Provide information on new deaths and new cases\n",
    "    print(f'Based on the last reported date: {df_merged[\"dates\"].iloc[-1].strftime(\"%m/%d/%y\")}, the number of new COVID-19 cases in {state} is {int(df_state_c.new_cases.iloc[-1])}.')\n",
    "    print(f'The number of new deaths is {int(df_state_d.new_deaths.iloc[-1])}.\\n')\n",
    "    \n",
    "    #Use increase or decrease function to show change \n",
    "    print(f'The number of cases {inc_dec(df_state_c.new_cases.iloc[-2],df_state_c.new_cases.iloc[-1])} from the previous day count of {int(df_state_c.new_cases.iloc[-2])}.')\n",
    "    print(f'The number of deaths {inc_dec(df_state_d.new_deaths.iloc[-2],df_state_d.new_deaths.iloc[-1])} from the previous day count of {int(df_state_d.new_deaths.iloc[-2])}.\\n')\n",
    "    \n",
    "    #Total number of cases/deaths\n",
    "    print(f'The total number of COVID-19 cases in {state} is {df_state_c.cases.iloc[-1]} and the total number of reported deaths is {df_state_d.deaths.iloc[-1]}.\\n')\n",
    "    \n",
    "    #Ask for what should be displayed\n",
    "    print(f'{name}, please select which data visualization to view for {state}:')\n",
    "    print(\"\\tEnter 1 to view the 15-day trend for new reported cases.\\n\\tEnter 2 to view the 15-day trend for new reported deaths.\")\n",
    "    \n",
    "    while True:\n",
    "        visuals = [1,2]\n",
    "        selection = int(input(\"Enter number: \"))\n",
    "        if selection in visuals:\n",
    "            visual = selection\n",
    "            break\n",
    "        else:\n",
    "            print(\"You have entered an invalid number.\\n\\tEnter 1 to view the 15-day trend for new reported cases.\\n\\tEnter 2 to view the 15-day trend for new reported deaths.\")\n",
    "    if visual == 1:\n",
    "        plt.figure(figsize=(10,8))\n",
    "        plt.bar(df_state_c.dates.iloc[-15:], df_state_c.new_cases.iloc[-15:])\n",
    "        plt.title(f'{state} COVID-19 Cases')\n",
    "        plt.xlabel(\"Date\")\n",
    "        plt.ylabel(\"Count\")\n",
    "        plt.xticks(df_state_c.dates.iloc[-15:], rotation=90)\n",
    "        plt.show()\n",
    "        average = round(df_state_c.new_cases.iloc[-15:].mean())\n",
    "        minimum = round(df_state_c.new_cases.iloc[-15:].min())\n",
    "        maximum = round(df_state_c.new_cases.iloc[-15:].max())\n",
    "        c_or_d = \"cases\"\n",
    "    elif visual == 2:\n",
    "        plt.figure(figsize=(10,8))\n",
    "        plt.bar(df_state_d.dates.iloc[-15:], df_state_d.new_deaths.iloc[-15:])\n",
    "        plt.title(f'{state} COVID-19 Deaths')\n",
    "        plt.xlabel(\"Date\")\n",
    "        plt.ylabel(\"Count\")\n",
    "        plt.xticks(df_state_d.dates.iloc[-15:], rotation=90)\n",
    "        plt.show()\n",
    "        average = round(df_state_d.new_deaths.iloc[-15:].mean())\n",
    "        minimum = round(df_state_d.new_deaths.iloc[-15:].min())\n",
    "        maximum = round(df_state_d.new_deaths.iloc[-15:].max())\n",
    "        c_or_d = \"deaths\"\n",
    "    else: print(\"You have entered an invalid number.\")\n",
    "    graph_output(c_or_d,average,minimum,maximum)\n",
    "    \n",
    "    "
   ]
  },
  {
   "cell_type": "code",
   "execution_count": 2,
   "metadata": {},
   "outputs": [
    {
     "name": "stdout",
     "output_type": "stream",
     "text": [
      "Hello. Please enter your name: Eissa\n",
      "\n",
      "It has been 317 days since the US outbreak of COVID-19. For which state would you like to view COVID-19 information?\n",
      "\tEnter State: Verginia\n",
      "Error state not found. Please Choose a valid state.\n",
      "\tEnter State: Virginia\n",
      "Okay, Eissa. Here's the information for Virginia:\n",
      "\n",
      "Based on the last reported date: 12/04/20, the number of new COVID-19 cases in Virginia is 2877.\n",
      "The number of new deaths is 13.\n",
      "\n",
      "The number of cases increased from the previous day count of 2023.\n",
      "The number of deaths decreased from the previous day count of 34.\n",
      "\n",
      "The total number of COVID-19 cases in Virginia is 247380 and the total number of reported deaths is 4160.\n",
      "\n",
      "Eissa, please select which data visualization to view for Virginia:\n",
      "\tEnter 1 to view the 15-day trend for new reported cases.\n",
      "\tEnter 2 to view the 15-day trend for new reported deaths.\n",
      "Enter number: 3\n",
      "You have entered an invalid number.\n",
      "\tEnter 1 to view the 15-day trend for new reported cases.\n",
      "\tEnter 2 to view the 15-day trend for new reported deaths.\n",
      "Enter number: 1\n"
     ]
    },
    {
     "data": {
      "image/png": "[encoded data removed]",
      "text/plain": [
       "<Figure size 720x576 with 1 Axes>"
      ]
     },
     "metadata": {
      "needs_background": "light"
     },
     "output_type": "display_data"
    },
    {
     "name": "stdout",
     "output_type": "stream",
     "text": [
      "The 15-day average of new reported cases is 2440, ranging between 1544 and 3242.\n"
     ]
    }
   ],
   "source": [
    "covid()"
   ]
  },
  {
   "cell_type": "code",
   "execution_count": 3,
   "metadata": {},
   "outputs": [
    {
     "name": "stdout",
     "output_type": "stream",
     "text": [
      "Hello. Please enter your name: Eissa\n",
      "\n",
      "It has been 317 days since the US outbreak of COVID-19. For which state would you like to view COVID-19 information?\n",
      "\tEnter State: Iowa\n",
      "Okay, Eissa. Here's the information for Iowa:\n",
      "\n",
      "Based on the last reported date: 12/04/20, the number of new COVID-19 cases in Iowa is 2807.\n",
      "The number of new deaths is 62.\n",
      "\n",
      "The number of cases increased from the previous day count of 2565.\n",
      "The number of deaths decreased from the previous day count of 85.\n",
      "\n",
      "The total number of COVID-19 cases in Iowa is 241531 and the total number of reported deaths is 2665.\n",
      "\n",
      "Eissa, please select which data visualization to view for Iowa:\n",
      "\tEnter 1 to view the 15-day trend for new reported cases.\n",
      "\tEnter 2 to view the 15-day trend for new reported deaths.\n",
      "Enter number: 2\n"
     ]
    },
    {
     "data": {
      "image/png": "[encoded data removed]",
      "text/plain": [
       "<Figure size 720x576 with 1 Axes>"
      ]
     },
     "metadata": {
      "needs_background": "light"
     },
     "output_type": "display_data"
    },
    {
     "name": "stdout",
     "output_type": "stream",
     "text": [
      "The 15-day average of new reported deaths is 36, ranging between 11 and 85.\n"
     ]
    }
   ],
   "source": [
    "covid()"
   ]
  }
 ],
 "metadata": {
  "kernelspec": {
   "display_name": "Python 3",
   "language": "python",
   "name": "python3"
  },
  "language_info": {
   "codemirror_mode": {
    "name": "ipython",
    "version": 3
   },
   "file_extension": ".py",
   "mimetype": "text/x-python",
   "name": "python",
   "nbconvert_exporter": "python",
   "pygments_lexer": "ipython3",
   "version": "3.8.3"
  }
 },
 "nbformat": 4,
 "nbformat_minor": 4
}
